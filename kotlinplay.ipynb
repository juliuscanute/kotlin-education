{
 "cells": [
  {
   "cell_type": "markdown",
   "id": "26618534",
   "metadata": {},
   "source": [
    "# Kotlin jupyter notebook experiment"
   ]
  },
  {
   "cell_type": "markdown",
   "id": "626afdec",
   "metadata": {},
   "source": [
    "## Import required libraries"
   ]
  },
  {
   "cell_type": "code",
   "execution_count": null,
   "id": "c3ff111c",
   "metadata": {},
   "outputs": [],
   "source": [
    "@file:DependsOn(\"org.jetbrains.kotlinx:kotlinx-coroutines-core:1.6.4\")"
   ]
  },
  {
   "cell_type": "markdown",
   "id": "f3d5fe37",
   "metadata": {},
   "source": [
    "## Import usages"
   ]
  },
  {
   "cell_type": "code",
   "execution_count": 14,
   "id": "e54b715e",
   "metadata": {},
   "outputs": [],
   "source": [
    "import kotlinx.coroutines.flow.flowOf\n",
    "import kotlinx.coroutines.GlobalScope\n",
    "import kotlinx.coroutines.launch"
   ]
  },
  {
   "cell_type": "markdown",
   "id": "ac9a88eb",
   "metadata": {},
   "source": [
    "## Go with a flow"
   ]
  },
  {
   "cell_type": "code",
   "execution_count": 15,
   "id": "5a5a8b01",
   "metadata": {},
   "outputs": [
    {
     "name": "stdout",
     "output_type": "stream",
     "text": [
      "1\n",
      "2\n",
      "3\n"
     ]
    },
    {
     "data": {
      "text/plain": [
       "StandaloneCoroutine{Completed}@49cf9028"
      ]
     },
     "execution_count": 15,
     "metadata": {},
     "output_type": "execute_result"
    }
   ],
   "source": [
    "GlobalScope.launch {\n",
    "    flowOf(1,2,3).collect {\n",
    "        println(\"$it\")\n",
    "    }\n",
    "}"
   ]
  },
  {
   "cell_type": "code",
   "execution_count": null,
   "id": "4621dff3",
   "metadata": {},
   "outputs": [],
   "source": []
  }
 ],
 "metadata": {
  "kernelspec": {
   "display_name": "Kotlin",
   "language": "kotlin",
   "name": "kotlin"
  },
  "language_info": {
   "codemirror_mode": "text/x-kotlin",
   "file_extension": ".kt",
   "mimetype": "text/x-kotlin",
   "name": "kotlin",
   "nbconvert_exporter": "",
   "pygments_lexer": "kotlin",
   "version": "1.8.0-dev-3517"
  }
 },
 "nbformat": 4,
 "nbformat_minor": 5
}
