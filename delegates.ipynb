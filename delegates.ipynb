{
 "cells": [
  {
   "cell_type": "markdown",
   "id": "eb57bc6b",
   "metadata": {},
   "source": [
    "# Kotlin jupyter notebook experiment"
   ]
  },
  {
   "cell_type": "markdown",
   "id": "e621c5f2",
   "metadata": {},
   "source": [
    "## Make required imports"
   ]
  },
  {
   "cell_type": "code",
   "execution_count": 33,
   "id": "79852fa1",
   "metadata": {},
   "outputs": [],
   "source": [
    "import kotlin.properties.ReadWriteProperty\n",
    "import kotlin.reflect.KProperty"
   ]
  },
  {
   "cell_type": "markdown",
   "id": "b585f267",
   "metadata": {},
   "source": [
    "## Define delegate"
   ]
  },
  {
   "cell_type": "code",
   "execution_count": 78,
   "id": "985a8820",
   "metadata": {},
   "outputs": [],
   "source": [
    "class Person(firstName: String, lastName: String) {\n",
    "  var firstName: String by FormatDelegate()\n",
    "  var lastName: String by FormatDelegate()\n",
    "  var updateCount = 0\n",
    "}\n",
    "\n",
    "class FormatDelegate : ReadWriteProperty<Any, String> {\n",
    "  private var formattedString: String = \"\"\n",
    "  \n",
    "  override fun getValue(thisRef: Any, property: KProperty<*>): String {\n",
    "    return formattedString\n",
    "  }\n",
    "  override fun setValue(thisRef: Any, property: KProperty<*>, value: String) {\n",
    "    formattedString = \"Hello, $value!\"\n",
    "    println(thisRef is Person)\n",
    "    if(thisRef is Person) {\n",
    "      thisRef.updateCount++\n",
    "    }\n",
    "  }\n",
    "}"
   ]
  },
  {
   "cell_type": "markdown",
   "id": "868177d8",
   "metadata": {},
   "source": [
    "## Excersie delegate\n"
   ]
  },
  {
   "cell_type": "code",
   "execution_count": 79,
   "id": "146c6d7e",
   "metadata": {},
   "outputs": [
    {
     "name": "stdout",
     "output_type": "stream",
     "text": [
      "true\n",
      "Hello, Android!\n",
      "1\n",
      "true\n",
      "Hello, iOS!\n",
      "2\n"
     ]
    }
   ],
   "source": [
    "val person = Person(\"A\", \"B\")\n",
    "person.firstName = \"Android\"\n",
    "println(person.firstName)\n",
    "println(person.updateCount)\n",
    "person.lastName = \"iOS\"\n",
    "println(person.lastName)\n",
    "println(person.updateCount)"
   ]
  },
  {
   "cell_type": "code",
   "execution_count": null,
   "id": "04279bc9",
   "metadata": {},
   "outputs": [],
   "source": []
  }
 ],
 "metadata": {
  "kernelspec": {
   "display_name": "Kotlin",
   "language": "kotlin",
   "name": "kotlin"
  },
  "language_info": {
   "codemirror_mode": "text/x-kotlin",
   "file_extension": ".kt",
   "mimetype": "text/x-kotlin",
   "name": "kotlin",
   "nbconvert_exporter": "",
   "pygments_lexer": "kotlin",
   "version": "1.8.0-dev-3517"
  },
  "toc": {
   "base_numbering": 1,
   "nav_menu": {},
   "number_sections": true,
   "sideBar": true,
   "skip_h1_title": false,
   "title_cell": "Table of Contents",
   "title_sidebar": "Contents",
   "toc_cell": false,
   "toc_position": {},
   "toc_section_display": true,
   "toc_window_display": false
  }
 },
 "nbformat": 4,
 "nbformat_minor": 5
}
